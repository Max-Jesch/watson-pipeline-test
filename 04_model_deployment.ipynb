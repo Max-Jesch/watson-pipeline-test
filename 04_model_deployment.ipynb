{
 "cells": [
  {
   "cell_type": "code",
   "execution_count": null,
   "id": "b42f8644-083a-45d1-a80f-1d5d9913314c",
   "metadata": {
    "id": "122dd83d-4678-455a-bf4c-d62d7cc4ad21",
    "tags": []
   },
   "outputs": [],
   "source": [
    "print(\"this is model deployment\")"
   ]
  }
 ],
 "metadata": {
  "kernelspec": {
   "display_name": "Python 3.10",
   "language": "python",
   "name": "python3"
  },
  "language_info": {
   "codemirror_mode": {
    "name": "ipython",
    "version": 3
   },
   "file_extension": ".py",
   "mimetype": "text/x-python",
   "name": "python",
   "nbconvert_exporter": "python",
   "pygments_lexer": "ipython3",
   "version": "3.10.6"
  }
 },
 "nbformat": 4,
 "nbformat_minor": 5
}
