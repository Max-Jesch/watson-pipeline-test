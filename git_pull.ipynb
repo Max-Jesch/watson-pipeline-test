{
 "cells": [
  {
   "cell_type": "code",
   "execution_count": 5,
   "id": "b7eacb34-3de6-4470-bd0f-fce3d89c1981",
   "metadata": {
    "id": "17df4d79-80a4-48b2-b44e-156c86123c5e",
    "tags": []
   },
   "outputs": [
    {
     "name": "stdout",
     "output_type": "stream",
     "text": [
      "bin\t      cc-home  home   licenses\t  mnt\troot  srv  userfs     var\n",
      "boot\t      dev      lib    lost+found  opt\trun   sys  user-home\n",
      "build-volume  etc      lib64  media\t  proc\tsbin  tmp  usr\n"
     ]
    }
   ],
   "source": [
    "!ls /"
   ]
  },
  {
   "cell_type": "code",
   "execution_count": 6,
   "id": "c555803b-aefb-4af3-aeef-505860261a1e",
   "metadata": {
    "id": "c555803b-aefb-4af3-aeef-505860261a1e",
    "tags": []
   },
   "outputs": [],
   "source": [
    "!cd /userfs"
   ]
  },
  {
   "cell_type": "code",
   "execution_count": 7,
   "id": "5471b712-74e5-430e-9b63-4098978dcd65",
   "metadata": {
    "id": "5471b712-74e5-430e-9b63-4098978dcd65",
    "tags": []
   },
   "outputs": [
    {
     "name": "stdout",
     "output_type": "stream",
     "text": [
      "assets\tassettypes  git_pull.ipynb  readme.md\n"
     ]
    }
   ],
   "source": [
    "!ls"
   ]
  },
  {
   "cell_type": "code",
   "execution_count": 3,
   "id": "77c2eecb-1753-4e20-9149-84267d1bf8f6",
   "metadata": {
    "id": "77c2eecb-1753-4e20-9149-84267d1bf8f6",
    "tags": []
   },
   "outputs": [
    {
     "name": "stdout",
     "output_type": "stream",
     "text": [
      "Already up to date.\n"
     ]
    }
   ],
   "source": [
    "!git pull"
   ]
  }
 ],
 "metadata": {
  "kernelspec": {
   "display_name": "Python 3.10",
   "language": "python",
   "name": "python3"
  },
  "language_info": {
   "codemirror_mode": {
    "name": "ipython",
    "version": 3
   },
   "file_extension": ".py",
   "mimetype": "text/x-python",
   "name": "python",
   "nbconvert_exporter": "python",
   "pygments_lexer": "ipython3",
   "version": "3.10.6"
  }
 },
 "nbformat": 4,
 "nbformat_minor": 5
}
