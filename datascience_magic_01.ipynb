{
 "cells": [
  {
   "cell_type": "code",
   "execution_count": 8,
   "id": "b7eacb34-3de6-4470-bd0f-fce3d89c1981",
   "metadata": {
    "id": "17df4d79-80a4-48b2-b44e-156c86123c5e",
    "tags": []
   },
   "outputs": [
    {
     "name": "stdout",
     "output_type": "stream",
     "text": [
      "this is data preprocessing\n"
     ]
    }
   ],
   "source": [
    "print(\"this is data preprocessing\")"
   ]
  },
  {
   "cell_type": "code",
   "execution_count": 9,
   "id": "0a02cf7f-d02b-45f5-9832-aba961991b1a",
   "metadata": {
    "id": "0a02cf7f-d02b-45f5-9832-aba961991b1a",
    "tags": []
   },
   "outputs": [
    {
     "name": "stdout",
     "output_type": "stream",
     "text": [
      "this is model training\n"
     ]
    }
   ],
   "source": [
    "print(\"this is model training\") "
   ]
  }
 ],
 "metadata": {
  "kernelspec": {
   "display_name": "Python 3.10",
   "language": "python",
   "name": "python3"
  },
  "language_info": {
   "codemirror_mode": {
    "name": "ipython",
    "version": 3
   },
   "file_extension": ".py",
   "mimetype": "text/x-python",
   "name": "python",
   "nbconvert_exporter": "python",
   "pygments_lexer": "ipython3",
   "version": "3.10.6"
  }
 },
 "nbformat": 4,
 "nbformat_minor": 5
}
