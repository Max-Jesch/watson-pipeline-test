{
 "cells": [
  {
   "cell_type": "code",
   "execution_count": null,
   "id": "533e4c32-a225-4072-a7be-2d483da4f817",
   "metadata": {
    "id": "e2b2953f-8bd3-4431-9642-e7fee1327824",
    "tags": []
   },
   "outputs": [],
   "source": [
    "print(\"this is model feature engineering\")"
   ]
  }
 ],
 "metadata": {
  "kernelspec": {
   "display_name": "Python 3.10",
   "language": "python",
   "name": "python3"
  },
  "language_info": {
   "codemirror_mode": {
    "name": "ipython",
    "version": 3
   },
   "file_extension": ".py",
   "mimetype": "text/x-python",
   "name": "python",
   "nbconvert_exporter": "python",
   "pygments_lexer": "ipython3",
   "version": "3.10.6"
  }
 },
 "nbformat": 4,
 "nbformat_minor": 5
}
