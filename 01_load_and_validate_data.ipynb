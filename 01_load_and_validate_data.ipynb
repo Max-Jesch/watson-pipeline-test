{
 "cells": [
  {
   "cell_type": "code",
   "execution_count": 5,
   "id": "b7eacb34-3de6-4470-bd0f-fce3d89c1981",
   "metadata": {
    "id": "17df4d79-80a4-48b2-b44e-156c86123c5e",
    "tags": []
   },
   "outputs": [
    {
     "name": "stdout",
     "output_type": "stream",
     "text": [
      "bin\t      cc-home  home   licenses\t  mnt\troot  srv  userfs     var\n",
      "boot\t      dev      lib    lost+found  opt\trun   sys  user-home\n",
      "build-volume  etc      lib64  media\t  proc\tsbin  tmp  usr\n"
     ]
    }
   ],
   "source": [
    "print(\"this is data preprocessing\")"
   ]
  },
  {
   "cell_type": "code",
   "execution_count": 10,
   "id": "1d2ae0fd-e63b-40d1-97d9-e771aa942d35",
   "metadata": {
    "id": "1d2ae0fd-e63b-40d1-97d9-e771aa942d35",
    "tags": []
   },
   "outputs": [
    {
     "name": "stdout",
     "output_type": "stream",
     "text": [
      "assets\tassettypes  datascience_magic_01.ipynb\treadme.md  Untitled.ipynb\n"
     ]
    }
   ],
   "source": [
    "!ls"
   ]
  },
  {
   "cell_type": "code",
   "execution_count": 11,
   "id": "7aa3d56e-a1a7-49e9-bb28-c0ca49d7c324",
   "metadata": {
    "id": "7aa3d56e-a1a7-49e9-bb28-c0ca49d7c324",
    "tags": []
   },
   "outputs": [
    {
     "name": "stdout",
     "output_type": "stream",
     "text": [
      "/userfs\n"
     ]
    }
   ],
   "source": [
    "!pwd"
   ]
  },
  {
   "cell_type": "code",
   "execution_count": 13,
   "id": "38d6a7d7-24cc-4a9e-9205-959acbc276fa",
   "metadata": {
    "id": "38d6a7d7-24cc-4a9e-9205-959acbc276fa",
    "tags": []
   },
   "outputs": [
    {
     "name": "stdout",
     "output_type": "stream",
     "text": [
      "bin\t      cc-home  home   licenses\t  mnt\troot  srv  userfs     var\n",
      "boot\t      dev      lib    lost+found  opt\trun   sys  user-home\n",
      "build-volume  etc      lib64  media\t  proc\tsbin  tmp  usr\n"
     ]
    }
   ],
   "source": [
    "!ls /"
   ]
  }
 ],
 "metadata": {
  "kernelspec": {
   "display_name": "Python 3.10",
   "language": "python",
   "name": "python3"
  },
  "language_info": {
   "codemirror_mode": {
    "name": "ipython",
    "version": 3
   },
   "file_extension": ".py",
   "mimetype": "text/x-python",
   "name": "python",
   "nbconvert_exporter": "python",
   "pygments_lexer": "ipython3",
   "version": "3.10.6"
  }
 },
 "nbformat": 4,
 "nbformat_minor": 5
}
